{
 "cells": [
  {
   "cell_type": "code",
   "execution_count": 1,
   "metadata": {},
   "outputs": [],
   "source": [
    "from Data import create_data\n",
    "import numpy as np\n",
    "import pandas as pd\n",
    "from tree import DTree\n",
    "\n"
   ]
  },
  {
   "cell_type": "code",
   "execution_count": 2,
   "metadata": {},
   "outputs": [
    {
     "name": "stdout",
     "output_type": "stream",
     "text": [
      "best is 0.419973 2th 有自己的房子\n",
      "best is 0.918296 1th 有工作\n"
     ]
    },
    {
     "data": {
      "text/plain": [
       "<tree.Node at 0x210b009dd88>"
      ]
     },
     "execution_count": 2,
     "metadata": {},
     "output_type": "execute_result"
    }
   ],
   "source": [
    "datasets, features = create_data()\n",
    "train_df = pd.DataFrame(datasets, columns=features)\n",
    "dt = DTree()\n",
    "tree = dt.fit(train_df)\n",
    "tree\n"
   ]
  }
 ],
 "metadata": {
  "kernelspec": {
   "display_name": "Python 3",
   "language": "python",
   "name": "python3"
  },
  "language_info": {
   "codemirror_mode": {
    "name": "ipython",
    "version": 3
   },
   "file_extension": ".py",
   "mimetype": "text/x-python",
   "name": "python",
   "nbconvert_exporter": "python",
   "pygments_lexer": "ipython3",
   "version": "3.7.4"
  }
 },
 "nbformat": 4,
 "nbformat_minor": 2
}
